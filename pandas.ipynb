{
 "cells": [
  {
   "cell_type": "code",
   "execution_count": 1,
   "metadata": {},
   "outputs": [],
   "source": [
    "import pandas as pd"
   ]
  },
  {
   "cell_type": "code",
   "execution_count": 2,
   "metadata": {},
   "outputs": [
    {
     "data": {
      "text/html": [
       "<div>\n",
       "<style scoped>\n",
       "    .dataframe tbody tr th:only-of-type {\n",
       "        vertical-align: middle;\n",
       "    }\n",
       "\n",
       "    .dataframe tbody tr th {\n",
       "        vertical-align: top;\n",
       "    }\n",
       "\n",
       "    .dataframe thead th {\n",
       "        text-align: right;\n",
       "    }\n",
       "</style>\n",
       "<table border=\"1\" class=\"dataframe\">\n",
       "  <thead>\n",
       "    <tr style=\"text-align: right;\">\n",
       "      <th></th>\n",
       "      <th>Pokemon</th>\n",
       "      <th>Type</th>\n",
       "    </tr>\n",
       "  </thead>\n",
       "  <tbody>\n",
       "    <tr>\n",
       "      <th>0</th>\n",
       "      <td>Bulbasaur</td>\n",
       "      <td>Grass</td>\n",
       "    </tr>\n",
       "    <tr>\n",
       "      <th>1</th>\n",
       "      <td>Ivysaur</td>\n",
       "      <td>Grass</td>\n",
       "    </tr>\n",
       "    <tr>\n",
       "      <th>2</th>\n",
       "      <td>Venusaur</td>\n",
       "      <td>Grass</td>\n",
       "    </tr>\n",
       "    <tr>\n",
       "      <th>3</th>\n",
       "      <td>Charmander</td>\n",
       "      <td>Fire</td>\n",
       "    </tr>\n",
       "    <tr>\n",
       "      <th>4</th>\n",
       "      <td>Charmeleon</td>\n",
       "      <td>Fire</td>\n",
       "    </tr>\n",
       "  </tbody>\n",
       "</table>\n",
       "</div>"
      ],
      "text/plain": [
       "      Pokemon   Type\n",
       "0   Bulbasaur  Grass\n",
       "1     Ivysaur  Grass\n",
       "2    Venusaur  Grass\n",
       "3  Charmander   Fire\n",
       "4  Charmeleon   Fire"
      ]
     },
     "execution_count": 2,
     "metadata": {},
     "output_type": "execute_result"
    }
   ],
   "source": [
    "file = 'data_sets/pokemon_data.csv'\n",
    "df_pk = pd.read_csv(file)\n",
    "df_pk.head()"
   ]
  },
  {
   "cell_type": "code",
   "execution_count": 3,
   "metadata": {},
   "outputs": [
    {
     "data": {
      "text/plain": [
       "0    Water\n",
       "Name: Type, dtype: object"
      ]
     },
     "execution_count": 3,
     "metadata": {},
     "output_type": "execute_result"
    }
   ],
   "source": [
    "df_pk['Type'].mode()"
   ]
  },
  {
   "cell_type": "code",
   "execution_count": 5,
   "metadata": {},
   "outputs": [],
   "source": [
    "pok_dict = df_pk['Pokemon'].to_dict()"
   ]
  },
  {
   "cell_type": "code",
   "execution_count": 6,
   "metadata": {},
   "outputs": [
    {
     "data": {
      "text/plain": [
       "0       Bulbasaur\n",
       "1         Ivysaur\n",
       "2        Venusaur\n",
       "3      Charmander\n",
       "4      Charmeleon\n",
       "          ...    \n",
       "716       Yveltal\n",
       "717       Zygarde\n",
       "718       Diancie\n",
       "719         Hoopa\n",
       "720     Volcanion\n",
       "Name: Pokemon, Length: 721, dtype: object"
      ]
     },
     "execution_count": 6,
     "metadata": {},
     "output_type": "execute_result"
    }
   ],
   "source": [
    "p_series = df_pk['Pokemon']\n",
    "p_series"
   ]
  },
  {
   "cell_type": "code",
   "execution_count": 12,
   "metadata": {},
   "outputs": [
    {
     "data": {
      "text/plain": [
       "0       Zygarde\n",
       "1      Zweilous\n",
       "2         Zubat\n",
       "3         Zorua\n",
       "4       Zoroark\n",
       "5     Zigzagoon\n",
       "6        Zekrom\n",
       "7     Zebstrika\n",
       "8        Zapdos\n",
       "9      Zangoose\n",
       "10      Yveltal\n",
       "11      Yanmega\n",
       "12        Yanma\n",
       "13       Yamask\n",
       "14      Xerneas\n",
       "15         Xatu\n",
       "16       Wynaut\n",
       "17      Wurmple\n",
       "Name: Pokemon, dtype: object"
      ]
     },
     "execution_count": 12,
     "metadata": {},
     "output_type": "execute_result"
    }
   ],
   "source": [
    "p_series.sort_values(ignore_index=True,ascending=False).head(18)"
   ]
  },
  {
   "cell_type": "code",
   "execution_count": 15,
   "metadata": {},
   "outputs": [
    {
     "data": {
      "text/plain": [
       "Index(['Pokemon', 'Type'], dtype='object')"
      ]
     },
     "execution_count": 15,
     "metadata": {},
     "output_type": "execute_result"
    }
   ],
   "source": [
    "df_pk.columns"
   ]
  },
  {
   "cell_type": "code",
   "execution_count": 16,
   "metadata": {},
   "outputs": [
    {
     "data": {
      "text/html": [
       "<div>\n",
       "<style scoped>\n",
       "    .dataframe tbody tr th:only-of-type {\n",
       "        vertical-align: middle;\n",
       "    }\n",
       "\n",
       "    .dataframe tbody tr th {\n",
       "        vertical-align: top;\n",
       "    }\n",
       "\n",
       "    .dataframe thead th {\n",
       "        text-align: right;\n",
       "    }\n",
       "</style>\n",
       "<table border=\"1\" class=\"dataframe\">\n",
       "  <thead>\n",
       "    <tr style=\"text-align: right;\">\n",
       "      <th></th>\n",
       "      <th>Type</th>\n",
       "    </tr>\n",
       "    <tr>\n",
       "      <th>Pokemon</th>\n",
       "      <th></th>\n",
       "    </tr>\n",
       "  </thead>\n",
       "  <tbody>\n",
       "    <tr>\n",
       "      <th>Bulbasaur</th>\n",
       "      <td>Grass</td>\n",
       "    </tr>\n",
       "    <tr>\n",
       "      <th>Ivysaur</th>\n",
       "      <td>Grass</td>\n",
       "    </tr>\n",
       "    <tr>\n",
       "      <th>Venusaur</th>\n",
       "      <td>Grass</td>\n",
       "    </tr>\n",
       "    <tr>\n",
       "      <th>Charmander</th>\n",
       "      <td>Fire</td>\n",
       "    </tr>\n",
       "    <tr>\n",
       "      <th>Charmeleon</th>\n",
       "      <td>Fire</td>\n",
       "    </tr>\n",
       "    <tr>\n",
       "      <th>...</th>\n",
       "      <td>...</td>\n",
       "    </tr>\n",
       "    <tr>\n",
       "      <th>Yveltal</th>\n",
       "      <td>Dark</td>\n",
       "    </tr>\n",
       "    <tr>\n",
       "      <th>Zygarde</th>\n",
       "      <td>Dragon</td>\n",
       "    </tr>\n",
       "    <tr>\n",
       "      <th>Diancie</th>\n",
       "      <td>Rock</td>\n",
       "    </tr>\n",
       "    <tr>\n",
       "      <th>Hoopa</th>\n",
       "      <td>Psychic</td>\n",
       "    </tr>\n",
       "    <tr>\n",
       "      <th>Volcanion</th>\n",
       "      <td>Fire</td>\n",
       "    </tr>\n",
       "  </tbody>\n",
       "</table>\n",
       "<p>721 rows × 1 columns</p>\n",
       "</div>"
      ],
      "text/plain": [
       "               Type\n",
       "Pokemon            \n",
       "Bulbasaur     Grass\n",
       "Ivysaur       Grass\n",
       "Venusaur      Grass\n",
       "Charmander     Fire\n",
       "Charmeleon     Fire\n",
       "...             ...\n",
       "Yveltal        Dark\n",
       "Zygarde      Dragon\n",
       "Diancie        Rock\n",
       "Hoopa       Psychic\n",
       "Volcanion      Fire\n",
       "\n",
       "[721 rows x 1 columns]"
      ]
     },
     "execution_count": 16,
     "metadata": {},
     "output_type": "execute_result"
    }
   ],
   "source": [
    "pd.read_csv(file,index_col=['Pokemon'])"
   ]
  },
  {
   "cell_type": "code",
   "execution_count": 65,
   "metadata": {},
   "outputs": [
    {
     "data": {
      "text/plain": [
       "Type\n",
       "Grass       Bulbasaur\n",
       "Grass         Ivysaur\n",
       "Grass        Venusaur\n",
       "Fire       Charmander\n",
       "Fire       Charmeleon\n",
       "              ...    \n",
       "Dark          Yveltal\n",
       "Dragon        Zygarde\n",
       "Rock          Diancie\n",
       "Psychic         Hoopa\n",
       "Fire        Volcanion\n",
       "Name: Pokemon, Length: 721, dtype: object"
      ]
     },
     "execution_count": 65,
     "metadata": {},
     "output_type": "execute_result"
    }
   ],
   "source": [
    "tp = pd.read_csv(file,index_col=['Type']).squeeze()\n",
    "tp"
   ]
  },
  {
   "cell_type": "code",
   "execution_count": 28,
   "metadata": {},
   "outputs": [
    {
     "data": {
      "text/plain": [
       "Type\n",
       "Grass     Bulbasaur\n",
       "Grass       Ivysaur\n",
       "Grass      Venusaur\n",
       "Grass        Oddish\n",
       "Grass         Gloom\n",
       "            ...    \n",
       "Grass       Chespin\n",
       "Grass     Quilladin\n",
       "Grass    Chesnaught\n",
       "Grass        Skiddo\n",
       "Grass        Gogoat\n",
       "Name: Pokemon, Length: 66, dtype: object"
      ]
     },
     "execution_count": 28,
     "metadata": {},
     "output_type": "execute_result"
    }
   ],
   "source": [
    "tp.loc['Grass']"
   ]
  },
  {
   "cell_type": "code",
   "execution_count": 24,
   "metadata": {},
   "outputs": [
    {
     "data": {
      "text/plain": [
       "Water       105\n",
       "Normal       93\n",
       "Grass        66\n",
       "Bug          63\n",
       "Fire         47\n",
       "Psychic      47\n",
       "Rock         41\n",
       "Electric     36\n",
       "Ground       30\n",
       "Poison       28\n",
       "Dark         28\n",
       "Fighting     25\n",
       "Dragon       24\n",
       "Ghost        23\n",
       "Ice          23\n",
       "Steel        22\n",
       "Fairy        17\n",
       "Flying        3\n",
       "Name: Type, dtype: int64"
      ]
     },
     "execution_count": 24,
     "metadata": {},
     "output_type": "execute_result"
    }
   ],
   "source": [
    "df_pk['Type'].value_counts()"
   ]
  },
  {
   "cell_type": "code",
   "execution_count": 29,
   "metadata": {},
   "outputs": [
    {
     "data": {
      "text/plain": [
       "Type\n",
       "Bug        Leavanny\n",
       "Bug           Burmy\n",
       "Bug       Scolipede\n",
       "Bug        Genesect\n",
       "Bug      Kricketune\n",
       "            ...    \n",
       "Water       Panpour\n",
       "Water          Seel\n",
       "Water       Dewgong\n",
       "Water      Politoed\n",
       "Water      Chinchou\n",
       "Name: Pokemon, Length: 721, dtype: object"
      ]
     },
     "execution_count": 29,
     "metadata": {},
     "output_type": "execute_result"
    }
   ],
   "source": [
    "tp.sort_index()"
   ]
  },
  {
   "cell_type": "code",
   "execution_count": 30,
   "metadata": {},
   "outputs": [
    {
     "data": {
      "text/plain": [
       "pandas.core.series.Series"
      ]
     },
     "execution_count": 30,
     "metadata": {},
     "output_type": "execute_result"
    }
   ],
   "source": [
    "type(tp)"
   ]
  },
  {
   "cell_type": "code",
   "execution_count": 34,
   "metadata": {},
   "outputs": [
    {
     "data": {
      "text/plain": [
       "Type\n",
       "Grass    Bulbasaur\n",
       "Name: Pokemon, dtype: object"
      ]
     },
     "execution_count": 34,
     "metadata": {},
     "output_type": "execute_result"
    }
   ],
   "source": [
    "tp[tp == 'Bulbasaur']"
   ]
  },
  {
   "cell_type": "code",
   "execution_count": 41,
   "metadata": {},
   "outputs": [
    {
     "data": {
      "text/plain": [
       "Index(['Grass', 'Grass', 'Grass', 'Grass', 'Grass', 'Grass', 'Grass', 'Grass',\n",
       "       'Grass', 'Grass', 'Grass', 'Grass', 'Grass', 'Grass', 'Grass', 'Grass',\n",
       "       'Grass', 'Grass', 'Grass', 'Grass', 'Grass', 'Grass', 'Grass', 'Grass',\n",
       "       'Grass', 'Grass', 'Grass', 'Grass', 'Grass', 'Grass', 'Grass', 'Grass',\n",
       "       'Grass', 'Grass', 'Grass', 'Grass', 'Grass', 'Grass', 'Grass', 'Grass',\n",
       "       'Grass', 'Grass', 'Grass', 'Grass', 'Grass', 'Grass', 'Grass', 'Grass',\n",
       "       'Grass', 'Grass', 'Grass', 'Grass', 'Grass', 'Grass', 'Grass', 'Grass',\n",
       "       'Grass', 'Grass', 'Grass', 'Grass', 'Grass', 'Grass', 'Grass', 'Grass',\n",
       "       'Grass', 'Grass'],\n",
       "      dtype='object', name='Type')"
      ]
     },
     "execution_count": 41,
     "metadata": {},
     "output_type": "execute_result"
    }
   ],
   "source": [
    "tp.index[tp.index == 'Grass']"
   ]
  },
  {
   "cell_type": "code",
   "execution_count": 43,
   "metadata": {},
   "outputs": [
    {
     "data": {
      "text/plain": [
       "bool"
      ]
     },
     "execution_count": 43,
     "metadata": {},
     "output_type": "execute_result"
    }
   ],
   "source": [
    "type('Grass' in tp.index)"
   ]
  },
  {
   "cell_type": "code",
   "execution_count": 44,
   "metadata": {},
   "outputs": [
    {
     "data": {
      "text/plain": [
       "Type\n",
       "Grass     Bulbasaur\n",
       "Grass       Ivysaur\n",
       "Grass      Venusaur\n",
       "Grass        Oddish\n",
       "Grass         Gloom\n",
       "            ...    \n",
       "Grass       Chespin\n",
       "Grass     Quilladin\n",
       "Grass    Chesnaught\n",
       "Grass        Skiddo\n",
       "Grass        Gogoat\n",
       "Name: Pokemon, Length: 4356, dtype: object"
      ]
     },
     "execution_count": 44,
     "metadata": {},
     "output_type": "execute_result"
    }
   ],
   "source": [
    "tp.loc[tp.index[tp.index == 'Grass']]"
   ]
  },
  {
   "cell_type": "code",
   "execution_count": 47,
   "metadata": {},
   "outputs": [
    {
     "data": {
      "text/plain": [
       "'Bulbasaur'"
      ]
     },
     "execution_count": 47,
     "metadata": {},
     "output_type": "execute_result"
    }
   ],
   "source": [
    "tp[0]"
   ]
  },
  {
   "cell_type": "code",
   "execution_count": 48,
   "metadata": {},
   "outputs": [
    {
     "data": {
      "text/plain": [
       "Type\n",
       "Grass     Bulbasaur\n",
       "Grass       Ivysaur\n",
       "Grass      Venusaur\n",
       "Fire     Charmander\n",
       "Name: Pokemon, dtype: object"
      ]
     },
     "execution_count": 48,
     "metadata": {},
     "output_type": "execute_result"
    }
   ],
   "source": [
    "tp[0:4]"
   ]
  },
  {
   "cell_type": "code",
   "execution_count": 49,
   "metadata": {},
   "outputs": [
    {
     "data": {
      "text/plain": [
       "Type\n",
       "Fire     Charmeleon\n",
       "Fire      Charizard\n",
       "Water      Squirtle\n",
       "Name: Pokemon, dtype: object"
      ]
     },
     "execution_count": 49,
     "metadata": {},
     "output_type": "execute_result"
    }
   ],
   "source": [
    "tp[[4,5,6]]"
   ]
  },
  {
   "cell_type": "code",
   "execution_count": 50,
   "metadata": {},
   "outputs": [],
   "source": [
    "tp[0] = \"Novil\""
   ]
  },
  {
   "cell_type": "code",
   "execution_count": 51,
   "metadata": {},
   "outputs": [
    {
     "data": {
      "text/plain": [
       "Type\n",
       "Grass           Novil\n",
       "Grass         Ivysaur\n",
       "Grass        Venusaur\n",
       "Fire       Charmander\n",
       "Fire       Charmeleon\n",
       "              ...    \n",
       "Dark          Yveltal\n",
       "Dragon        Zygarde\n",
       "Rock          Diancie\n",
       "Psychic         Hoopa\n",
       "Fire        Volcanion\n",
       "Name: Pokemon, Length: 721, dtype: object"
      ]
     },
     "execution_count": 51,
     "metadata": {},
     "output_type": "execute_result"
    }
   ],
   "source": [
    "tp"
   ]
  },
  {
   "cell_type": "code",
   "execution_count": null,
   "metadata": {},
   "outputs": [],
   "source": []
  },
  {
   "cell_type": "code",
   "execution_count": 66,
   "metadata": {},
   "outputs": [
    {
     "data": {
      "text/plain": [
       "Type\n",
       "Grass     Bulbasaur\n",
       "Fire     Charmeleon\n",
       "Water      Squirtle\n",
       "Name: Pokemon, dtype: object"
      ]
     },
     "execution_count": 66,
     "metadata": {},
     "output_type": "execute_result"
    }
   ],
   "source": [
    "tp[[0,4,6]]"
   ]
  },
  {
   "cell_type": "code",
   "execution_count": 72,
   "metadata": {},
   "outputs": [
    {
     "data": {
      "text/plain": [
       "NoneType"
      ]
     },
     "execution_count": 72,
     "metadata": {},
     "output_type": "execute_result"
    }
   ],
   "source": [
    "type(tp.get(3323))"
   ]
  },
  {
   "cell_type": "code",
   "execution_count": 73,
   "metadata": {},
   "outputs": [],
   "source": [
    "tp[\"novil\"] = \"Novil\""
   ]
  },
  {
   "cell_type": "code",
   "execution_count": 75,
   "metadata": {},
   "outputs": [],
   "source": [
    "del(tp['novil'])"
   ]
  },
  {
   "cell_type": "code",
   "execution_count": 76,
   "metadata": {},
   "outputs": [
    {
     "data": {
      "text/plain": [
       "Type\n",
       "Grass       Bulbasaur\n",
       "Grass         Ivysaur\n",
       "Grass        Venusaur\n",
       "Fire       Charmander\n",
       "Fire       Charmeleon\n",
       "              ...    \n",
       "Dark          Yveltal\n",
       "Dragon        Zygarde\n",
       "Rock          Diancie\n",
       "Psychic         Hoopa\n",
       "Fire        Volcanion\n",
       "Name: Pokemon, Length: 721, dtype: object"
      ]
     },
     "execution_count": 76,
     "metadata": {},
     "output_type": "execute_result"
    }
   ],
   "source": [
    "tp"
   ]
  },
  {
   "cell_type": "code",
   "execution_count": 82,
   "metadata": {},
   "outputs": [
    {
     "data": {
      "text/plain": [
       "Type\n",
       "Fire     Charmander\n",
       "Fire      Charizard\n",
       "Water      Squirtle\n",
       "Name: Pokemon, dtype: object"
      ]
     },
     "execution_count": 82,
     "metadata": {},
     "output_type": "execute_result"
    }
   ],
   "source": [
    "tp.get([3,5,6],'Missing')"
   ]
  },
  {
   "cell_type": "code",
   "execution_count": 84,
   "metadata": {},
   "outputs": [],
   "source": [
    "df_pk\n",
    "tpp = df_pk.squeeze()"
   ]
  },
  {
   "cell_type": "code",
   "execution_count": 85,
   "metadata": {},
   "outputs": [
    {
     "data": {
      "text/html": [
       "<div>\n",
       "<style scoped>\n",
       "    .dataframe tbody tr th:only-of-type {\n",
       "        vertical-align: middle;\n",
       "    }\n",
       "\n",
       "    .dataframe tbody tr th {\n",
       "        vertical-align: top;\n",
       "    }\n",
       "\n",
       "    .dataframe thead th {\n",
       "        text-align: right;\n",
       "    }\n",
       "</style>\n",
       "<table border=\"1\" class=\"dataframe\">\n",
       "  <thead>\n",
       "    <tr style=\"text-align: right;\">\n",
       "      <th></th>\n",
       "      <th>Pokemon</th>\n",
       "      <th>Type</th>\n",
       "    </tr>\n",
       "  </thead>\n",
       "  <tbody>\n",
       "    <tr>\n",
       "      <th>0</th>\n",
       "      <td>Bulbasaur</td>\n",
       "      <td>Grass</td>\n",
       "    </tr>\n",
       "    <tr>\n",
       "      <th>1</th>\n",
       "      <td>Ivysaur</td>\n",
       "      <td>Grass</td>\n",
       "    </tr>\n",
       "    <tr>\n",
       "      <th>2</th>\n",
       "      <td>Venusaur</td>\n",
       "      <td>Grass</td>\n",
       "    </tr>\n",
       "    <tr>\n",
       "      <th>3</th>\n",
       "      <td>Charmander</td>\n",
       "      <td>Fire</td>\n",
       "    </tr>\n",
       "    <tr>\n",
       "      <th>4</th>\n",
       "      <td>Charmeleon</td>\n",
       "      <td>Fire</td>\n",
       "    </tr>\n",
       "    <tr>\n",
       "      <th>...</th>\n",
       "      <td>...</td>\n",
       "      <td>...</td>\n",
       "    </tr>\n",
       "    <tr>\n",
       "      <th>716</th>\n",
       "      <td>Yveltal</td>\n",
       "      <td>Dark</td>\n",
       "    </tr>\n",
       "    <tr>\n",
       "      <th>717</th>\n",
       "      <td>Zygarde</td>\n",
       "      <td>Dragon</td>\n",
       "    </tr>\n",
       "    <tr>\n",
       "      <th>718</th>\n",
       "      <td>Diancie</td>\n",
       "      <td>Rock</td>\n",
       "    </tr>\n",
       "    <tr>\n",
       "      <th>719</th>\n",
       "      <td>Hoopa</td>\n",
       "      <td>Psychic</td>\n",
       "    </tr>\n",
       "    <tr>\n",
       "      <th>720</th>\n",
       "      <td>Volcanion</td>\n",
       "      <td>Fire</td>\n",
       "    </tr>\n",
       "  </tbody>\n",
       "</table>\n",
       "<p>721 rows × 2 columns</p>\n",
       "</div>"
      ],
      "text/plain": [
       "        Pokemon     Type\n",
       "0     Bulbasaur    Grass\n",
       "1       Ivysaur    Grass\n",
       "2      Venusaur    Grass\n",
       "3    Charmander     Fire\n",
       "4    Charmeleon     Fire\n",
       "..          ...      ...\n",
       "716     Yveltal     Dark\n",
       "717     Zygarde   Dragon\n",
       "718     Diancie     Rock\n",
       "719       Hoopa  Psychic\n",
       "720   Volcanion     Fire\n",
       "\n",
       "[721 rows x 2 columns]"
      ]
     },
     "execution_count": 85,
     "metadata": {},
     "output_type": "execute_result"
    }
   ],
   "source": [
    "tpp"
   ]
  },
  {
   "cell_type": "code",
   "execution_count": 91,
   "metadata": {},
   "outputs": [
    {
     "data": {
      "text/plain": [
       "Type\n",
       "Grass      u\n",
       "Grass      y\n",
       "Grass      u\n",
       "Fire       r\n",
       "Fire       r\n",
       "          ..\n",
       "Dark       v\n",
       "Dragon     y\n",
       "Rock       n\n",
       "Psychic    p\n",
       "Fire       o\n",
       "Name: Pokemon, Length: 721, dtype: object"
      ]
     },
     "execution_count": 91,
     "metadata": {},
     "output_type": "execute_result"
    }
   ],
   "source": [
    "tp.apply(max)"
   ]
  },
  {
   "cell_type": "code",
   "execution_count": null,
   "metadata": {},
   "outputs": [],
   "source": []
  },
  {
   "cell_type": "code",
   "execution_count": null,
   "metadata": {},
   "outputs": [],
   "source": []
  },
  {
   "cell_type": "code",
   "execution_count": 92,
   "metadata": {},
   "outputs": [],
   "source": [
    "# read james bond\n",
    "# create df\n",
    "# apply -- if year 1960 to 1975 => hit movie\n",
    "# apply -- if year 1975 to 2000 => flop movie\n",
    "# else avg"
   ]
  },
  {
   "cell_type": "code",
   "execution_count": 98,
   "metadata": {},
   "outputs": [
    {
     "data": {
      "text/html": [
       "<div>\n",
       "<style scoped>\n",
       "    .dataframe tbody tr th:only-of-type {\n",
       "        vertical-align: middle;\n",
       "    }\n",
       "\n",
       "    .dataframe tbody tr th {\n",
       "        vertical-align: top;\n",
       "    }\n",
       "\n",
       "    .dataframe thead th {\n",
       "        text-align: right;\n",
       "    }\n",
       "</style>\n",
       "<table border=\"1\" class=\"dataframe\">\n",
       "  <thead>\n",
       "    <tr style=\"text-align: right;\">\n",
       "      <th></th>\n",
       "      <th>Year</th>\n",
       "      <th>Actor</th>\n",
       "      <th>Director</th>\n",
       "      <th>Box Office</th>\n",
       "      <th>Budget</th>\n",
       "      <th>Bond Actor Salary</th>\n",
       "    </tr>\n",
       "    <tr>\n",
       "      <th>Film</th>\n",
       "      <th></th>\n",
       "      <th></th>\n",
       "      <th></th>\n",
       "      <th></th>\n",
       "      <th></th>\n",
       "      <th></th>\n",
       "    </tr>\n",
       "  </thead>\n",
       "  <tbody>\n",
       "    <tr>\n",
       "      <th>Dr. No</th>\n",
       "      <td>1962</td>\n",
       "      <td>Sean Connery</td>\n",
       "      <td>Terence Young</td>\n",
       "      <td>448.8</td>\n",
       "      <td>7.0</td>\n",
       "      <td>0.6</td>\n",
       "    </tr>\n",
       "    <tr>\n",
       "      <th>From Russia with Love</th>\n",
       "      <td>1963</td>\n",
       "      <td>Sean Connery</td>\n",
       "      <td>Terence Young</td>\n",
       "      <td>543.8</td>\n",
       "      <td>12.6</td>\n",
       "      <td>1.6</td>\n",
       "    </tr>\n",
       "    <tr>\n",
       "      <th>Goldfinger</th>\n",
       "      <td>1964</td>\n",
       "      <td>Sean Connery</td>\n",
       "      <td>Guy Hamilton</td>\n",
       "      <td>820.4</td>\n",
       "      <td>18.6</td>\n",
       "      <td>3.2</td>\n",
       "    </tr>\n",
       "    <tr>\n",
       "      <th>Thunderball</th>\n",
       "      <td>1965</td>\n",
       "      <td>Sean Connery</td>\n",
       "      <td>Terence Young</td>\n",
       "      <td>848.1</td>\n",
       "      <td>41.9</td>\n",
       "      <td>4.7</td>\n",
       "    </tr>\n",
       "    <tr>\n",
       "      <th>Casino Royale</th>\n",
       "      <td>1967</td>\n",
       "      <td>David Niven</td>\n",
       "      <td>Ken Hughes</td>\n",
       "      <td>315.0</td>\n",
       "      <td>85.0</td>\n",
       "      <td>NaN</td>\n",
       "    </tr>\n",
       "  </tbody>\n",
       "</table>\n",
       "</div>"
      ],
      "text/plain": [
       "                       Year         Actor       Director  Box Office  Budget  \\\n",
       "Film                                                                           \n",
       "Dr. No                 1962  Sean Connery  Terence Young       448.8     7.0   \n",
       "From Russia with Love  1963  Sean Connery  Terence Young       543.8    12.6   \n",
       "Goldfinger             1964  Sean Connery   Guy Hamilton       820.4    18.6   \n",
       "Thunderball            1965  Sean Connery  Terence Young       848.1    41.9   \n",
       "Casino Royale          1967   David Niven     Ken Hughes       315.0    85.0   \n",
       "\n",
       "                       Bond Actor Salary  \n",
       "Film                                      \n",
       "Dr. No                               0.6  \n",
       "From Russia with Love                1.6  \n",
       "Goldfinger                           3.2  \n",
       "Thunderball                          4.7  \n",
       "Casino Royale                        NaN  "
      ]
     },
     "execution_count": 98,
     "metadata": {},
     "output_type": "execute_result"
    }
   ],
   "source": [
    "df_james = pd.read_csv('data_sets/jamesbond_user.csv',index_col=['Film'])\n",
    "df_james.head()"
   ]
  },
  {
   "cell_type": "code",
   "execution_count": 103,
   "metadata": {},
   "outputs": [
    {
     "data": {
      "text/plain": [
       "Film\n",
       "Dr. No                              Hit movie\n",
       "From Russia with Love               Hit movie\n",
       "Goldfinger                          Hit movie\n",
       "Thunderball                         Hit movie\n",
       "Casino Royale                       Hit movie\n",
       "You Only Live Twice                 Hit movie\n",
       "On Her Majesty's Secret Service     Hit movie\n",
       "Diamonds Are Forever                Hit movie\n",
       "Live and Let Die                    Hit movie\n",
       "The Man with the Golden Gun         Hit movie\n",
       "The Spy Who Loved Me               Flop Movie\n",
       "Moonraker                          Flop Movie\n",
       "For Your Eyes Only                 Flop Movie\n",
       "Never Say Never Again              Flop Movie\n",
       "Octopussy                          Flop Movie\n",
       "A View to a Kill                   Flop Movie\n",
       "The Living Daylights               Flop Movie\n",
       "Licence to Kill                    Flop Movie\n",
       "GoldenEye                          Flop Movie\n",
       "Tomorrow Never Dies                Flop Movie\n",
       "The World Is Not Enough            Flop Movie\n",
       "Die Another Day                     AVG movil\n",
       "Casino Royale                       AVG movil\n",
       "Quantum of Solace                   AVG movil\n",
       "Skyfall                             AVG movil\n",
       "Spectre                             AVG movil\n",
       "Name: Year, dtype: object"
      ]
     },
     "execution_count": 103,
     "metadata": {},
     "output_type": "execute_result"
    }
   ],
   "source": [
    "def rating(x):\n",
    "    rating = 'None'\n",
    "    if 1960 <= x < 1975:\n",
    "        rating = 'Hit movie'\n",
    "    elif 1975 <= x <= 2000:\n",
    "        rating = 'Flop Movie'          \n",
    "    else:\n",
    "        rating = \"AVG movil\"\n",
    "    return rating\n",
    "df_james['Year'].apply(rating)\n",
    "\n",
    "# df_james['rating'] = df_james['Year'].apply(lambda x: 'Hit movie' if 1960 <= x < 1975 \n",
    "#                                         else 'Flop Movie' if 1975 <= x <= 2000 \n",
    "#                                         else \"AVG movil\")"
   ]
  },
  {
   "cell_type": "code",
   "execution_count": 100,
   "metadata": {},
   "outputs": [
    {
     "data": {
      "text/html": [
       "<div>\n",
       "<style scoped>\n",
       "    .dataframe tbody tr th:only-of-type {\n",
       "        vertical-align: middle;\n",
       "    }\n",
       "\n",
       "    .dataframe tbody tr th {\n",
       "        vertical-align: top;\n",
       "    }\n",
       "\n",
       "    .dataframe thead th {\n",
       "        text-align: right;\n",
       "    }\n",
       "</style>\n",
       "<table border=\"1\" class=\"dataframe\">\n",
       "  <thead>\n",
       "    <tr style=\"text-align: right;\">\n",
       "      <th></th>\n",
       "      <th>Year</th>\n",
       "      <th>Actor</th>\n",
       "      <th>Director</th>\n",
       "      <th>Box Office</th>\n",
       "      <th>Budget</th>\n",
       "      <th>Bond Actor Salary</th>\n",
       "      <th>rating</th>\n",
       "    </tr>\n",
       "    <tr>\n",
       "      <th>Film</th>\n",
       "      <th></th>\n",
       "      <th></th>\n",
       "      <th></th>\n",
       "      <th></th>\n",
       "      <th></th>\n",
       "      <th></th>\n",
       "      <th></th>\n",
       "    </tr>\n",
       "  </thead>\n",
       "  <tbody>\n",
       "    <tr>\n",
       "      <th>Dr. No</th>\n",
       "      <td>1962</td>\n",
       "      <td>Sean Connery</td>\n",
       "      <td>Terence Young</td>\n",
       "      <td>448.8</td>\n",
       "      <td>7.0</td>\n",
       "      <td>0.6</td>\n",
       "      <td>Hit movie</td>\n",
       "    </tr>\n",
       "    <tr>\n",
       "      <th>From Russia with Love</th>\n",
       "      <td>1963</td>\n",
       "      <td>Sean Connery</td>\n",
       "      <td>Terence Young</td>\n",
       "      <td>543.8</td>\n",
       "      <td>12.6</td>\n",
       "      <td>1.6</td>\n",
       "      <td>Hit movie</td>\n",
       "    </tr>\n",
       "    <tr>\n",
       "      <th>Goldfinger</th>\n",
       "      <td>1964</td>\n",
       "      <td>Sean Connery</td>\n",
       "      <td>Guy Hamilton</td>\n",
       "      <td>820.4</td>\n",
       "      <td>18.6</td>\n",
       "      <td>3.2</td>\n",
       "      <td>Hit movie</td>\n",
       "    </tr>\n",
       "    <tr>\n",
       "      <th>Thunderball</th>\n",
       "      <td>1965</td>\n",
       "      <td>Sean Connery</td>\n",
       "      <td>Terence Young</td>\n",
       "      <td>848.1</td>\n",
       "      <td>41.9</td>\n",
       "      <td>4.7</td>\n",
       "      <td>Hit movie</td>\n",
       "    </tr>\n",
       "    <tr>\n",
       "      <th>Casino Royale</th>\n",
       "      <td>1967</td>\n",
       "      <td>David Niven</td>\n",
       "      <td>Ken Hughes</td>\n",
       "      <td>315.0</td>\n",
       "      <td>85.0</td>\n",
       "      <td>NaN</td>\n",
       "      <td>Hit movie</td>\n",
       "    </tr>\n",
       "    <tr>\n",
       "      <th>You Only Live Twice</th>\n",
       "      <td>1967</td>\n",
       "      <td>Sean Connery</td>\n",
       "      <td>Lewis Gilbert</td>\n",
       "      <td>514.2</td>\n",
       "      <td>59.9</td>\n",
       "      <td>4.4</td>\n",
       "      <td>Hit movie</td>\n",
       "    </tr>\n",
       "    <tr>\n",
       "      <th>On Her Majesty's Secret Service</th>\n",
       "      <td>1969</td>\n",
       "      <td>George Lazenby</td>\n",
       "      <td>Peter R. Hunt</td>\n",
       "      <td>291.5</td>\n",
       "      <td>37.3</td>\n",
       "      <td>0.6</td>\n",
       "      <td>Hit movie</td>\n",
       "    </tr>\n",
       "    <tr>\n",
       "      <th>Diamonds Are Forever</th>\n",
       "      <td>1971</td>\n",
       "      <td>Sean Connery</td>\n",
       "      <td>Guy Hamilton</td>\n",
       "      <td>442.5</td>\n",
       "      <td>34.7</td>\n",
       "      <td>5.8</td>\n",
       "      <td>Hit movie</td>\n",
       "    </tr>\n",
       "    <tr>\n",
       "      <th>Live and Let Die</th>\n",
       "      <td>1973</td>\n",
       "      <td>Roger Moore</td>\n",
       "      <td>Guy Hamilton</td>\n",
       "      <td>460.3</td>\n",
       "      <td>30.8</td>\n",
       "      <td>NaN</td>\n",
       "      <td>Hit movie</td>\n",
       "    </tr>\n",
       "    <tr>\n",
       "      <th>The Man with the Golden Gun</th>\n",
       "      <td>1974</td>\n",
       "      <td>Roger Moore</td>\n",
       "      <td>Guy Hamilton</td>\n",
       "      <td>334.0</td>\n",
       "      <td>27.7</td>\n",
       "      <td>NaN</td>\n",
       "      <td>Hit movie</td>\n",
       "    </tr>\n",
       "    <tr>\n",
       "      <th>The Spy Who Loved Me</th>\n",
       "      <td>1977</td>\n",
       "      <td>Roger Moore</td>\n",
       "      <td>Lewis Gilbert</td>\n",
       "      <td>533.0</td>\n",
       "      <td>45.1</td>\n",
       "      <td>NaN</td>\n",
       "      <td>Flop Movie</td>\n",
       "    </tr>\n",
       "    <tr>\n",
       "      <th>Moonraker</th>\n",
       "      <td>1979</td>\n",
       "      <td>Roger Moore</td>\n",
       "      <td>Lewis Gilbert</td>\n",
       "      <td>535.0</td>\n",
       "      <td>91.5</td>\n",
       "      <td>NaN</td>\n",
       "      <td>Flop Movie</td>\n",
       "    </tr>\n",
       "    <tr>\n",
       "      <th>For Your Eyes Only</th>\n",
       "      <td>1981</td>\n",
       "      <td>Roger Moore</td>\n",
       "      <td>John Glen</td>\n",
       "      <td>449.4</td>\n",
       "      <td>60.2</td>\n",
       "      <td>NaN</td>\n",
       "      <td>Flop Movie</td>\n",
       "    </tr>\n",
       "    <tr>\n",
       "      <th>Never Say Never Again</th>\n",
       "      <td>1983</td>\n",
       "      <td>Sean Connery</td>\n",
       "      <td>Irvin Kershner</td>\n",
       "      <td>380.0</td>\n",
       "      <td>86.0</td>\n",
       "      <td>NaN</td>\n",
       "      <td>Flop Movie</td>\n",
       "    </tr>\n",
       "    <tr>\n",
       "      <th>Octopussy</th>\n",
       "      <td>1983</td>\n",
       "      <td>Roger Moore</td>\n",
       "      <td>John Glen</td>\n",
       "      <td>373.8</td>\n",
       "      <td>53.9</td>\n",
       "      <td>7.8</td>\n",
       "      <td>Flop Movie</td>\n",
       "    </tr>\n",
       "    <tr>\n",
       "      <th>A View to a Kill</th>\n",
       "      <td>1985</td>\n",
       "      <td>Roger Moore</td>\n",
       "      <td>John Glen</td>\n",
       "      <td>275.2</td>\n",
       "      <td>54.5</td>\n",
       "      <td>9.1</td>\n",
       "      <td>Flop Movie</td>\n",
       "    </tr>\n",
       "    <tr>\n",
       "      <th>The Living Daylights</th>\n",
       "      <td>1987</td>\n",
       "      <td>Timothy Dalton</td>\n",
       "      <td>John Glen</td>\n",
       "      <td>313.5</td>\n",
       "      <td>68.8</td>\n",
       "      <td>5.2</td>\n",
       "      <td>Flop Movie</td>\n",
       "    </tr>\n",
       "    <tr>\n",
       "      <th>Licence to Kill</th>\n",
       "      <td>1989</td>\n",
       "      <td>Timothy Dalton</td>\n",
       "      <td>John Glen</td>\n",
       "      <td>250.9</td>\n",
       "      <td>56.7</td>\n",
       "      <td>7.9</td>\n",
       "      <td>Flop Movie</td>\n",
       "    </tr>\n",
       "    <tr>\n",
       "      <th>GoldenEye</th>\n",
       "      <td>1995</td>\n",
       "      <td>Pierce Brosnan</td>\n",
       "      <td>Martin Campbell</td>\n",
       "      <td>518.5</td>\n",
       "      <td>76.9</td>\n",
       "      <td>5.1</td>\n",
       "      <td>Flop Movie</td>\n",
       "    </tr>\n",
       "    <tr>\n",
       "      <th>Tomorrow Never Dies</th>\n",
       "      <td>1997</td>\n",
       "      <td>Pierce Brosnan</td>\n",
       "      <td>Roger Spottiswoode</td>\n",
       "      <td>463.2</td>\n",
       "      <td>133.9</td>\n",
       "      <td>10.0</td>\n",
       "      <td>Flop Movie</td>\n",
       "    </tr>\n",
       "    <tr>\n",
       "      <th>The World Is Not Enough</th>\n",
       "      <td>1999</td>\n",
       "      <td>Pierce Brosnan</td>\n",
       "      <td>Michael Apted</td>\n",
       "      <td>439.5</td>\n",
       "      <td>158.3</td>\n",
       "      <td>13.5</td>\n",
       "      <td>Flop Movie</td>\n",
       "    </tr>\n",
       "    <tr>\n",
       "      <th>Die Another Day</th>\n",
       "      <td>2002</td>\n",
       "      <td>Pierce Brosnan</td>\n",
       "      <td>Lee Tamahori</td>\n",
       "      <td>465.4</td>\n",
       "      <td>154.2</td>\n",
       "      <td>17.9</td>\n",
       "      <td>AVG movil</td>\n",
       "    </tr>\n",
       "    <tr>\n",
       "      <th>Casino Royale</th>\n",
       "      <td>2006</td>\n",
       "      <td>Daniel Craig</td>\n",
       "      <td>Martin Campbell</td>\n",
       "      <td>581.5</td>\n",
       "      <td>145.3</td>\n",
       "      <td>3.3</td>\n",
       "      <td>AVG movil</td>\n",
       "    </tr>\n",
       "    <tr>\n",
       "      <th>Quantum of Solace</th>\n",
       "      <td>2008</td>\n",
       "      <td>Daniel Craig</td>\n",
       "      <td>Marc Forster</td>\n",
       "      <td>514.2</td>\n",
       "      <td>181.4</td>\n",
       "      <td>8.1</td>\n",
       "      <td>AVG movil</td>\n",
       "    </tr>\n",
       "    <tr>\n",
       "      <th>Skyfall</th>\n",
       "      <td>2012</td>\n",
       "      <td>Daniel Craig</td>\n",
       "      <td>Sam Mendes</td>\n",
       "      <td>943.5</td>\n",
       "      <td>170.2</td>\n",
       "      <td>14.5</td>\n",
       "      <td>AVG movil</td>\n",
       "    </tr>\n",
       "    <tr>\n",
       "      <th>Spectre</th>\n",
       "      <td>2015</td>\n",
       "      <td>Daniel Craig</td>\n",
       "      <td>Sam Mendes</td>\n",
       "      <td>726.7</td>\n",
       "      <td>206.3</td>\n",
       "      <td>NaN</td>\n",
       "      <td>AVG movil</td>\n",
       "    </tr>\n",
       "  </tbody>\n",
       "</table>\n",
       "</div>"
      ],
      "text/plain": [
       "                                 Year           Actor            Director  \\\n",
       "Film                                                                        \n",
       "Dr. No                           1962    Sean Connery       Terence Young   \n",
       "From Russia with Love            1963    Sean Connery       Terence Young   \n",
       "Goldfinger                       1964    Sean Connery        Guy Hamilton   \n",
       "Thunderball                      1965    Sean Connery       Terence Young   \n",
       "Casino Royale                    1967     David Niven          Ken Hughes   \n",
       "You Only Live Twice              1967    Sean Connery       Lewis Gilbert   \n",
       "On Her Majesty's Secret Service  1969  George Lazenby       Peter R. Hunt   \n",
       "Diamonds Are Forever             1971    Sean Connery        Guy Hamilton   \n",
       "Live and Let Die                 1973     Roger Moore        Guy Hamilton   \n",
       "The Man with the Golden Gun      1974     Roger Moore        Guy Hamilton   \n",
       "The Spy Who Loved Me             1977     Roger Moore       Lewis Gilbert   \n",
       "Moonraker                        1979     Roger Moore       Lewis Gilbert   \n",
       "For Your Eyes Only               1981     Roger Moore           John Glen   \n",
       "Never Say Never Again            1983    Sean Connery      Irvin Kershner   \n",
       "Octopussy                        1983     Roger Moore           John Glen   \n",
       "A View to a Kill                 1985     Roger Moore           John Glen   \n",
       "The Living Daylights             1987  Timothy Dalton           John Glen   \n",
       "Licence to Kill                  1989  Timothy Dalton           John Glen   \n",
       "GoldenEye                        1995  Pierce Brosnan     Martin Campbell   \n",
       "Tomorrow Never Dies              1997  Pierce Brosnan  Roger Spottiswoode   \n",
       "The World Is Not Enough          1999  Pierce Brosnan       Michael Apted   \n",
       "Die Another Day                  2002  Pierce Brosnan        Lee Tamahori   \n",
       "Casino Royale                    2006    Daniel Craig     Martin Campbell   \n",
       "Quantum of Solace                2008    Daniel Craig        Marc Forster   \n",
       "Skyfall                          2012    Daniel Craig          Sam Mendes   \n",
       "Spectre                          2015    Daniel Craig          Sam Mendes   \n",
       "\n",
       "                                 Box Office  Budget  Bond Actor Salary  \\\n",
       "Film                                                                     \n",
       "Dr. No                                448.8     7.0                0.6   \n",
       "From Russia with Love                 543.8    12.6                1.6   \n",
       "Goldfinger                            820.4    18.6                3.2   \n",
       "Thunderball                           848.1    41.9                4.7   \n",
       "Casino Royale                         315.0    85.0                NaN   \n",
       "You Only Live Twice                   514.2    59.9                4.4   \n",
       "On Her Majesty's Secret Service       291.5    37.3                0.6   \n",
       "Diamonds Are Forever                  442.5    34.7                5.8   \n",
       "Live and Let Die                      460.3    30.8                NaN   \n",
       "The Man with the Golden Gun           334.0    27.7                NaN   \n",
       "The Spy Who Loved Me                  533.0    45.1                NaN   \n",
       "Moonraker                             535.0    91.5                NaN   \n",
       "For Your Eyes Only                    449.4    60.2                NaN   \n",
       "Never Say Never Again                 380.0    86.0                NaN   \n",
       "Octopussy                             373.8    53.9                7.8   \n",
       "A View to a Kill                      275.2    54.5                9.1   \n",
       "The Living Daylights                  313.5    68.8                5.2   \n",
       "Licence to Kill                       250.9    56.7                7.9   \n",
       "GoldenEye                             518.5    76.9                5.1   \n",
       "Tomorrow Never Dies                   463.2   133.9               10.0   \n",
       "The World Is Not Enough               439.5   158.3               13.5   \n",
       "Die Another Day                       465.4   154.2               17.9   \n",
       "Casino Royale                         581.5   145.3                3.3   \n",
       "Quantum of Solace                     514.2   181.4                8.1   \n",
       "Skyfall                               943.5   170.2               14.5   \n",
       "Spectre                               726.7   206.3                NaN   \n",
       "\n",
       "                                     rating  \n",
       "Film                                         \n",
       "Dr. No                            Hit movie  \n",
       "From Russia with Love             Hit movie  \n",
       "Goldfinger                        Hit movie  \n",
       "Thunderball                       Hit movie  \n",
       "Casino Royale                     Hit movie  \n",
       "You Only Live Twice               Hit movie  \n",
       "On Her Majesty's Secret Service   Hit movie  \n",
       "Diamonds Are Forever              Hit movie  \n",
       "Live and Let Die                  Hit movie  \n",
       "The Man with the Golden Gun       Hit movie  \n",
       "The Spy Who Loved Me             Flop Movie  \n",
       "Moonraker                        Flop Movie  \n",
       "For Your Eyes Only               Flop Movie  \n",
       "Never Say Never Again            Flop Movie  \n",
       "Octopussy                        Flop Movie  \n",
       "A View to a Kill                 Flop Movie  \n",
       "The Living Daylights             Flop Movie  \n",
       "Licence to Kill                  Flop Movie  \n",
       "GoldenEye                        Flop Movie  \n",
       "Tomorrow Never Dies              Flop Movie  \n",
       "The World Is Not Enough          Flop Movie  \n",
       "Die Another Day                   AVG movil  \n",
       "Casino Royale                     AVG movil  \n",
       "Quantum of Solace                 AVG movil  \n",
       "Skyfall                           AVG movil  \n",
       "Spectre                           AVG movil  "
      ]
     },
     "execution_count": 100,
     "metadata": {},
     "output_type": "execute_result"
    }
   ],
   "source": [
    "df_james"
   ]
  },
  {
   "cell_type": "code",
   "execution_count": 110,
   "metadata": {},
   "outputs": [
    {
     "data": {
      "text/plain": [
       "{'Dr. No': 'Hit movie',\n",
       " 'From Russia with Love': 'Hit movie',\n",
       " 'Goldfinger': 'Hit movie',\n",
       " 'Thunderball': 'Hit movie',\n",
       " 'Casino Royale': 'AVG movil',\n",
       " 'You Only Live Twice': 'Hit movie',\n",
       " \"On Her Majesty's Secret Service\": 'Hit movie',\n",
       " 'Diamonds Are Forever': 'Hit movie',\n",
       " 'Live and Let Die': 'Hit movie',\n",
       " 'The Man with the Golden Gun': 'Hit movie',\n",
       " 'The Spy Who Loved Me': 'Flop Movie',\n",
       " 'Moonraker': 'Flop Movie',\n",
       " 'For Your Eyes Only': 'Flop Movie',\n",
       " 'Never Say Never Again': 'Flop Movie',\n",
       " 'Octopussy': 'Flop Movie',\n",
       " 'A View to a Kill': 'Flop Movie',\n",
       " 'The Living Daylights': 'Flop Movie',\n",
       " 'Licence to Kill': 'Flop Movie',\n",
       " 'GoldenEye': 'Flop Movie',\n",
       " 'Tomorrow Never Dies': 'Flop Movie',\n",
       " 'The World Is Not Enough': 'Flop Movie',\n",
       " 'Die Another Day': 'AVG movil',\n",
       " 'Quantum of Solace': 'AVG movil',\n",
       " 'Skyfall': 'AVG movil',\n",
       " 'Spectre': 'AVG movil'}"
      ]
     },
     "execution_count": 110,
     "metadata": {},
     "output_type": "execute_result"
    }
   ],
   "source": [
    "year_dict = dict()\n",
    "\n",
    "for i in range(1960,2020):\n",
    "    rating = 'None'\n",
    "    if 1960 <= i < 1975:\n",
    "        year_dict[i] = 'Hit movie'\n",
    "    elif 1975 <= i <= 2000:\n",
    "        year_dict[i] = 'Flop Movie'          \n",
    "    else:\n",
    "        year_dict[i] = \"AVG movil\"\n",
    "\n",
    "\n",
    "df_james['Year'].map(year_dict).to_dict()"
   ]
  },
  {
   "cell_type": "code",
   "execution_count": 109,
   "metadata": {},
   "outputs": [
    {
     "data": {
      "text/plain": [
       "{1960: 'Hit movie',\n",
       " 1961: 'Hit movie',\n",
       " 1962: 'Hit movie',\n",
       " 1963: 'Hit movie',\n",
       " 1964: 'Hit movie',\n",
       " 1965: 'Hit movie',\n",
       " 1966: 'Hit movie',\n",
       " 1967: 'Hit movie',\n",
       " 1968: 'Hit movie',\n",
       " 1969: 'Hit movie',\n",
       " 1970: 'Hit movie',\n",
       " 1971: 'Hit movie',\n",
       " 1972: 'Hit movie',\n",
       " 1973: 'Hit movie',\n",
       " 1974: 'Hit movie',\n",
       " 1975: 'Flop Movie',\n",
       " 1976: 'Flop Movie',\n",
       " 1977: 'Flop Movie',\n",
       " 1978: 'Flop Movie',\n",
       " 1979: 'Flop Movie',\n",
       " 1980: 'Flop Movie',\n",
       " 1981: 'Flop Movie',\n",
       " 1982: 'Flop Movie',\n",
       " 1983: 'Flop Movie',\n",
       " 1984: 'Flop Movie',\n",
       " 1985: 'Flop Movie',\n",
       " 1986: 'Flop Movie',\n",
       " 1987: 'Flop Movie',\n",
       " 1988: 'Flop Movie',\n",
       " 1989: 'Flop Movie',\n",
       " 1990: 'Flop Movie',\n",
       " 1991: 'Flop Movie',\n",
       " 1992: 'Flop Movie',\n",
       " 1993: 'Flop Movie',\n",
       " 1994: 'Flop Movie',\n",
       " 1995: 'Flop Movie',\n",
       " 1996: 'Flop Movie',\n",
       " 1997: 'Flop Movie',\n",
       " 1998: 'Flop Movie',\n",
       " 1999: 'Flop Movie',\n",
       " 2000: 'Flop Movie',\n",
       " 2001: 'AVG movil',\n",
       " 2002: 'AVG movil',\n",
       " 2003: 'AVG movil',\n",
       " 2004: 'AVG movil',\n",
       " 2005: 'AVG movil',\n",
       " 2006: 'AVG movil',\n",
       " 2007: 'AVG movil',\n",
       " 2008: 'AVG movil',\n",
       " 2009: 'AVG movil',\n",
       " 2010: 'AVG movil',\n",
       " 2011: 'AVG movil',\n",
       " 2012: 'AVG movil',\n",
       " 2013: 'AVG movil',\n",
       " 2014: 'AVG movil',\n",
       " 2015: 'AVG movil',\n",
       " 2016: 'AVG movil',\n",
       " 2017: 'AVG movil',\n",
       " 2018: 'AVG movil',\n",
       " 2019: 'AVG movil'}"
      ]
     },
     "execution_count": 109,
     "metadata": {},
     "output_type": "execute_result"
    }
   ],
   "source": [
    "year_dict"
   ]
  },
  {
   "cell_type": "code",
   "execution_count": 111,
   "metadata": {},
   "outputs": [
    {
     "data": {
      "text/plain": [
       "{}"
      ]
     },
     "execution_count": 111,
     "metadata": {},
     "output_type": "execute_result"
    }
   ],
   "source": [
    "dict()"
   ]
  },
  {
   "cell_type": "code",
   "execution_count": null,
   "metadata": {},
   "outputs": [],
   "source": []
  }
 ],
 "metadata": {
  "kernelspec": {
   "display_name": "base",
   "language": "python",
   "name": "python3"
  },
  "language_info": {
   "codemirror_mode": {
    "name": "ipython",
    "version": 3
   },
   "file_extension": ".py",
   "mimetype": "text/x-python",
   "name": "python",
   "nbconvert_exporter": "python",
   "pygments_lexer": "ipython3",
   "version": "3.9.13"
  },
  "orig_nbformat": 4,
  "vscode": {
   "interpreter": {
    "hash": "82d379567c736fd96875b79b03b5787a895519948a6439cc2ff684c13070d574"
   }
  }
 },
 "nbformat": 4,
 "nbformat_minor": 2
}
